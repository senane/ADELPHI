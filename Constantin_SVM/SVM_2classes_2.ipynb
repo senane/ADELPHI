{
 "cells": [
  {
   "cell_type": "markdown",
   "metadata": {},
   "source": [
    "# Preprocessing of the Data:\n",
    "\n",
    "* Loading the packages\n",
    "* Loading the dataset\n",
    "* Reducing the number of classes to two (for the moment): interictal and preictal (seizure prediction)\n",
    "* Reducing the amount of data used (choice to be made)"
   ]
  },
  {
   "cell_type": "code",
   "execution_count": 44,
   "metadata": {},
   "outputs": [],
   "source": [
    "from __future__ import absolute_import, division, print_function\n",
    "from matplotlib.font_manager import _rebuild; _rebuild()\n",
    "import matplotlib.pyplot as plt\n",
    "%matplotlib inline\n",
    "import tensorflow as tf\n",
    "\n",
    "#Helper libraries\n",
    "import numpy as np\n",
    "import matplotlib.pyplot as plt\n",
    "import pandas as pd\n",
    "import scipy.io as spio\n",
    "from keras.models import Sequential\n",
    "from keras.layers import Dense\n",
    "from keras.wrappers.scikit_learn import KerasClassifier\n",
    "from keras.utils import np_utils\n",
    "from sklearn.model_selection import cross_val_score\n",
    "from sklearn.model_selection import KFold\n",
    "from sklearn.preprocessing import LabelEncoder\n",
    "from sklearn.pipeline import Pipeline\n",
    "from sklearn.model_selection import train_test_split\n",
    "from sklearn import metrics\n",
    "from sklearn.metrics import confusion_matrix \n",
    "from sklearn import svm\n",
    "from sklearn.pipeline import make_pipeline\n",
    "from sklearn.preprocessing import StandardScaler\n",
    "from sklearn.decomposition import PCA\n",
    "from sklearn.model_selection import StratifiedKFold\n",
    "\n",
    "tf.logging.set_verbosity(tf.logging.INFO)"
   ]
  },
  {
   "cell_type": "code",
   "execution_count": 45,
   "metadata": {},
   "outputs": [],
   "source": [
    "\"\"\"Load the dataset and set randomness.\"\"\"\n",
    "# (from Emma's code)\n",
    "\n",
    "# Initialize random number generator for reproducibility.\n",
    "seed = 7\n",
    "np.random.seed(seed)\n",
    "\n",
    "# Load in dataset.\n",
    "data = spio.loadmat(\"features_10s_2019-01-30.mat\");\n",
    "features = data['features'];\n",
    "labels = data['labels_features'];\n",
    "animal_id_features = data['animal_id_features'];\n",
    "\n",
    "# Flatten animal IDs so we can slice by animal.\n",
    "id_features = np.ravel(animal_id_features);\n",
    "\n",
    "# Count number of features per animal label.\n",
    "features_per_animal = np.bincount(id_features);\n",
    "\n",
    "# Get only features corresponding to first animal.\n",
    "fKH41_num_samples = features_per_animal[1];\n",
    "fKH41_features = features[1:fKH41_num_samples];\n",
    "\n",
    "# Get only labels corresponding to first animal's features.\n",
    "fKH41_labels = labels[:,1:fKH41_num_samples];\n",
    "fKH41_labels = fKH41_labels.transpose();"
   ]
  },
  {
   "cell_type": "code",
   "execution_count": 46,
   "metadata": {},
   "outputs": [
    {
     "name": "stdout",
     "output_type": "stream",
     "text": [
      "(96665, 1)\n"
     ]
    }
   ],
   "source": [
    "print(fKH41_labels.shape)"
   ]
  },
  {
   "cell_type": "code",
   "execution_count": 47,
   "metadata": {},
   "outputs": [
    {
     "name": "stdout",
     "output_type": "stream",
     "text": [
      "(96115,)\n",
      "(96115, 141)\n"
     ]
    }
   ],
   "source": [
    "\"\"\"Reduce the number of classes: delete the seizures\"\"\"\n",
    "\n",
    "a = np.where(fKH41_labels == 2)\n",
    "\n",
    "fKH41_labels_tmp = np.delete(fKH41_labels, a)\n",
    "fKH41_features_tmp = np.delete(fKH41_features, a, 0);\n",
    "fKH41_labels = fKH41_labels_tmp\n",
    "fKH41_features = fKH41_features_tmp\n",
    "\n",
    "print(fKH41_labels.shape)\n",
    "print(fKH41_features.shape)"
   ]
  },
  {
   "cell_type": "code",
   "execution_count": 48,
   "metadata": {},
   "outputs": [],
   "source": [
    "\"\"\"Reducing the size of the vectors for easier computation\"\"\"\n",
    "factor = 10\n",
    "\n",
    "\"\"\"Shuffling the data to train/test on smaller subsets\"\"\"\n",
    "shuffled_fKH41_features = np.empty(fKH41_features.shape, dtype=fKH41_features.dtype)\n",
    "shuffled_fKH41_labels = np.empty(fKH41_labels.shape, dtype=fKH41_labels.dtype)\n",
    "permutation = np.random.permutation(len(fKH41_labels))\n",
    "for old_index, new_index in enumerate(permutation):\n",
    "        shuffled_fKH41_features [new_index] = fKH41_features[old_index]\n",
    "        shuffled_fKH41_labels[new_index] = fKH41_labels[old_index]\n",
    "fKH41_features = shuffled_fKH41_features\n",
    "fKH41_labels = shuffled_fKH41_labels\n",
    "\n",
    "fKH41_features = fKH41_features[0:int(len(fKH41_features)/factor),:]\n",
    "fKH41_labels = fKH41_labels[0:np.int(len(fKH41_labels)/factor)]"
   ]
  },
  {
   "cell_type": "code",
   "execution_count": 49,
   "metadata": {},
   "outputs": [
    {
     "name": "stdout",
     "output_type": "stream",
     "text": [
      "(9611,)\n",
      "(9611, 141)\n"
     ]
    }
   ],
   "source": [
    "print(fKH41_labels.shape)\n",
    "print(fKH41_features.shape)"
   ]
  },
  {
   "cell_type": "markdown",
   "metadata": {},
   "source": [
    "# Tests to determine the number of features to keep when running a PCA, with and without normalization\n",
    "\n",
    "Either:\n",
    "* Arbitrarily made\n",
    "* for loop with features number without normalization\n",
    "* for loop with features number with normalization\n",
    "\n",
    "Without normalization is only because I wanted to see what it would lead to\n"
   ]
  },
  {
   "cell_type": "code",
   "execution_count": 8,
   "metadata": {},
   "outputs": [],
   "source": [
    "\"\"\"Split data into training and testing sets\"\"\"\n",
    "data_train, data_test, labels_train, labels_test = train_test_split(fKH41_features, fKH41_labels, test_size=0.20, random_state=seed);"
   ]
  },
  {
   "cell_type": "code",
   "execution_count": 86,
   "metadata": {},
   "outputs": [
    {
     "data": {
      "text/plain": [
       "'Number of features to keep after PCA'"
      ]
     },
     "execution_count": 86,
     "metadata": {},
     "output_type": "execute_result"
    }
   ],
   "source": [
    "\"\"\"Number of features to keep after PCA\"\"\"\n",
    "# features_kept = 70\n",
    "\n",
    "# \"\"\"Define the SVM model, train and test it \"\"\"\n",
    "# clf = make_pipeline(StandardScaler(), PCA(n_components=features_kept), svm.SVC(gamma='scale'))\n",
    "# y_score = clf.fit(data_train, labels_train)\n",
    "\n",
    "# y_predict = clf.predict(data_test)\n",
    "# y_predict_train = clf.predict(data_train)\n",
    "\n",
    "# print(\"Accuracy test set:\",metrics.accuracy_score(labels_test, y_predict))\n",
    "# print(\"Accuracy train set:\",metrics.accuracy_score(labels_train, y_predict_train))\n",
    "\n",
    "# confusion_matrix(labels_test, y_predict) "
   ]
  },
  {
   "cell_type": "code",
   "execution_count": 50,
   "metadata": {},
   "outputs": [],
   "source": [
    "\"\"\"Testing the accuracy of the model with respect to the number of PCs kept - WITH Standard scaling\"\"\"\n",
    "# Caution: here I didn't add a validation set, so the test performance is obviously biased\n",
    "\n",
    "accuracy_testSet = np.zeros(data_train.shape[1])\n",
    "accuracy_trainingSet = np.zeros(data_train.shape[1])\n",
    "\n",
    "\"\"\"Number of features to keep after PCA\"\"\"\n",
    "for i in range(data_train.shape[1]):\n",
    "    features_kept = i + 1 \n",
    "\n",
    "    \"\"\"Define the SVM model, train and test it \"\"\"\n",
    "\n",
    "    clf = make_pipeline(StandardScaler(), PCA(n_components=features_kept), svm.SVC(gamma='scale'))\n",
    "    y_score = clf.fit(data_train, labels_train)\n",
    "\n",
    "    y_predict = clf.predict(data_test)\n",
    "    y_predict_train = clf.predict(data_train)\n",
    "    \n",
    "    accuracy_testSet[i] = metrics.accuracy_score(labels_test, y_predict)\n",
    "    accuracy_trainingSet[i] = metrics.accuracy_score(labels_train, y_predict_train)\n",
    "    "
   ]
  },
  {
   "cell_type": "code",
   "execution_count": 51,
   "metadata": {},
   "outputs": [
    {
     "name": "stdout",
     "output_type": "stream",
     "text": [
      "0.80625 79\n"
     ]
    }
   ],
   "source": [
    "opt_perf = np.max(accuracy_testSet)\n",
    "opt_PCs = np.argmax(accuracy_testSet)+1\n",
    "\n",
    "print(opt_perf, opt_PCs)"
   ]
  },
  {
   "cell_type": "code",
   "execution_count": 89,
   "metadata": {},
   "outputs": [
    {
     "data": {
      "text/plain": [
       "'Testing the accuracy of the model with respect to the number of PCs kept - WITHOUT Standard scaling'"
      ]
     },
     "execution_count": 89,
     "metadata": {},
     "output_type": "execute_result"
    }
   ],
   "source": [
    "\"\"\"Testing the accuracy of the model with respect to the number of PCs kept - WITHOUT Standard scaling\"\"\"\n",
    "# # Caution: here I didn't add a validation set, so the test performance is obviously biased\n",
    "\n",
    "# accuracy_testSet = np.zeros(data_train.shape[1])\n",
    "# accuracy_trainingSet = np.zeros(data_train.shape[1])\n",
    "\n",
    "# \"\"\"Number of features to keep after PCA\"\"\"\n",
    "# for i in range(data_train.shape[1]):\n",
    "#     features_kept = i + 1 \n",
    "\n",
    "#     \"\"\"Define the SVM model, train and test it \"\"\"\n",
    "\n",
    "#     clf = make_pipeline(PCA(n_components=features_kept), svm.SVC(gamma='scale'))\n",
    "#     y_score = clf.fit(data_train, labels_train)\n",
    "\n",
    "#     y_predict = clf.predict(data_test)\n",
    "#     y_predict_train = clf.predict(data_train)\n",
    "    \n",
    "#     accuracy_testSet[i] = metrics.accuracy_score(labels_test, y_predict)\n",
    "#     accuracy_trainingSet[i] = metrics.accuracy_score(labels_train, y_predict_train)"
   ]
  },
  {
   "cell_type": "code",
   "execution_count": 52,
   "metadata": {},
   "outputs": [
    {
     "data": {
      "image/png": "[encoded data removed]",
      "text/plain": [
       "<Figure size 432x288 with 1 Axes>"
      ]
     },
     "metadata": {
      "needs_background": "light"
     },
     "output_type": "display_data"
    }
   ],
   "source": [
    "plt.plot(accuracy_trainingSet, 'r', label='training set')\n",
    "plt.plot(accuracy_testSet, 'b', label='test set')\n",
    "plt.ylabel('accuracy score')\n",
    "plt.xlabel('number of PCs')\n",
    "plt.legend(loc='upper left')\n",
    "plt.show()"
   ]
  },
  {
   "cell_type": "code",
   "execution_count": 53,
   "metadata": {},
   "outputs": [
    {
     "name": "stdout",
     "output_type": "stream",
     "text": [
      "Accuracy test set: 0.80375\n",
      "Accuracy train set: 0.8397003745318352\n"
     ]
    }
   ],
   "source": [
    "print(\"Accuracy test set:\",accuracy_testSet[-1])\n",
    "print(\"Accuracy train set:\",accuracy_trainingSet[-1])"
   ]
  },
  {
   "cell_type": "markdown",
   "metadata": {},
   "source": [
    "# Optimizing the Hyperparameters of the SVM\n",
    "\n",
    "* Kernel: RBF / Linear / Polynomial\n",
    "* Regularization (parameter C)\n",
    "* Gamma value\n",
    "* We could also add weights to the classes (class_weight={1: 10} or so|)\n",
    "\n",
    "NB:\n",
    "\n",
    "Regularization:This is how you can control the trade-off between decision boundary and misclassification term. A smaller value of C creates a small-margin hyperplane and a larger value of C creates a larger-margin hyperplane.\n",
    "\n",
    "Gamma: A lower value of Gamma will loosely fit the training dataset, whereas a higher value of gamma will exactly fit the training dataset, which causes over-fitting. In other words, you can say a low value of gamma considers only nearby points in calculating the separation line, while the a value of gamma considers all the data points in the calculation of the separation line."
   ]
  },
  {
   "cell_type": "code",
   "execution_count": null,
   "metadata": {},
   "outputs": [],
   "source": [
    "\"\"\"Split data into training and testing sets\"\"\"\n",
    "data_train, data_test, labels_train, labels_test = train_test_split(fKH41_features, fKH41_labels, test_size=0.20, random_state=seed);"
   ]
  },
  {
   "cell_type": "code",
   "execution_count": 17,
   "metadata": {},
   "outputs": [
    {
     "name": "stdout",
     "output_type": "stream",
     "text": [
      "Accuracy train set with rbf kernel and gamma = scale: 0.8480749219562955\n",
      "Accuracy test set with rbf kernel and gamma = scale: 0.8002081165452654\n"
     ]
    },
    {
     "name": "stderr",
     "output_type": "stream",
     "text": [
      "C:\\Users\\Constantin\\Anaconda3\\envs\\tftest\\lib\\site-packages\\sklearn\\svm\\base.py:196: FutureWarning: The default value of gamma will change from 'auto' to 'scale' in version 0.22 to account better for unscaled features. Set gamma explicitly to 'auto' or 'scale' to avoid this warning.\n",
      "  \"avoid this warning.\", FutureWarning)\n"
     ]
    },
    {
     "name": "stdout",
     "output_type": "stream",
     "text": [
      "Accuracy train set with rbf kernel and gamma = auto-deprecated: 0.8582206035379812\n",
      "Accuracy test set with rbf kernel and gamma = auto-deprecated: 0.7991675338189386\n"
     ]
    }
   ],
   "source": [
    "\"\"\"Changing the kernels --- rbf \"\"\"\n",
    "\n",
    "clf = make_pipeline(StandardScaler(), PCA(n_components=opt_PCs), svm.SVC(kernel='rbf', gamma='scale'))\n",
    "y_score = clf.fit(data_train, labels_train)\n",
    "y_predict = clf.predict(data_test)\n",
    "y_predict_train = clf.predict(data_train)\n",
    "print(\"Accuracy train set with rbf kernel and gamma = scale:\",metrics.accuracy_score(labels_train, y_predict_train))\n",
    "print(\"Accuracy test set with rbf kernel and gamma = scale:\",metrics.accuracy_score(labels_test, y_predict))\n",
    "\n",
    "\n",
    "clf = make_pipeline(StandardScaler(), PCA(n_components=opt_PCs), svm.SVC(kernel='rbf', gamma='auto_deprecated'))\n",
    "y_score = clf.fit(data_train, labels_train)\n",
    "y_predict = clf.predict(data_test)\n",
    "y_predict_train = clf.predict(data_train)\n",
    "print(\"Accuracy train set with rbf kernel and gamma = auto-deprecated:\",metrics.accuracy_score(labels_train, y_predict_train))\n",
    "print(\"Accuracy test set with rbf kernel and gamma = auto-deprecated:\",metrics.accuracy_score(labels_test, y_predict))"
   ]
  },
  {
   "cell_type": "code",
   "execution_count": 95,
   "metadata": {},
   "outputs": [
    {
     "name": "stdout",
     "output_type": "stream",
     "text": [
      "Accuracy train set with linear kernel and gamma = scale: 0.7991675338189386\n",
      "Accuracy test set with linear kernel and gamma = scale: 0.7710718002081165\n"
     ]
    }
   ],
   "source": [
    "\"\"\"Changing the kernels --- Linear \"\"\"\n",
    "\n",
    "clf = make_pipeline(StandardScaler(), PCA(n_components=opt_PCs), svm.SVC(kernel='linear'))\n",
    "y_score = clf.fit(data_train, labels_train)\n",
    "y_predict = clf.predict(data_test)\n",
    "y_predict_train = clf.predict(data_train)\n",
    "print(\"Accuracy train set with linear kernel and gamma = scale:\",metrics.accuracy_score(labels_train, y_predict_train))\n",
    "print(\"Accuracy test set with linear kernel and gamma = scale:\",metrics.accuracy_score(labels_test, y_predict))\n"
   ]
  },
  {
   "cell_type": "code",
   "execution_count": 97,
   "metadata": {},
   "outputs": [
    {
     "name": "stderr",
     "output_type": "stream",
     "text": [
      "C:\\Users\\Constantin\\Anaconda3\\envs\\tftest\\lib\\site-packages\\sklearn\\svm\\base.py:196: FutureWarning: The default value of gamma will change from 'auto' to 'scale' in version 0.22 to account better for unscaled features. Set gamma explicitly to 'auto' or 'scale' to avoid this warning.\n",
      "  \"avoid this warning.\", FutureWarning)\n"
     ]
    },
    {
     "name": "stdout",
     "output_type": "stream",
     "text": [
      "Accuracy train set with polynomial kernel and gamma = scale: 0.8522372528616025\n",
      "Accuracy test set with polynomial kernel and gamma = scale: 0.7814776274713839\n"
     ]
    }
   ],
   "source": [
    "\"\"\"Changing the kernels --- Polynomial (degree=6) \"\"\"\n",
    "\n",
    "clf = make_pipeline(StandardScaler(), PCA(n_components=opt_PCs), svm.SVC(kernel='poly'))\n",
    "y_score = clf.fit(data_train, labels_train)\n",
    "y_predict = clf.predict(data_test)\n",
    "y_predict_train = clf.predict(data_train)\n",
    "print(\"Accuracy train set with polynomial kernel and gamma = scale:\",metrics.accuracy_score(labels_train, y_predict_train))\n",
    "print(\"Accuracy test set with polynomial kernel and gamma = scale:\",metrics.accuracy_score(labels_test, y_predict))\n"
   ]
  },
  {
   "cell_type": "code",
   "execution_count": 104,
   "metadata": {},
   "outputs": [
    {
     "name": "stdout",
     "output_type": "stream",
     "text": [
      "Accuracy train set with polynomial kernel and gamma = scale: 0.8795525494276795\n",
      "Accuracy test set with polynomial kernel and gamma = scale: 0.7981269510926119\n"
     ]
    }
   ],
   "source": [
    "\"\"\"Changing the kernels --- Polynomial (degree=6) \"\"\"\n",
    "\n",
    "clf = make_pipeline(StandardScaler(), PCA(n_components=opt_PCs), svm.SVC(kernel='rbf', gamma='scale', C=5))\n",
    "y_score = clf.fit(data_train, labels_train)\n",
    "y_predict = clf.predict(data_test)\n",
    "y_predict_train = clf.predict(data_train)\n",
    "print(\"Accuracy train set with polynomial kernel and gamma = scale:\",metrics.accuracy_score(labels_train, y_predict_train))\n",
    "print(\"Accuracy test set with polynomial kernel and gamma = scale:\",metrics.accuracy_score(labels_test, y_predict))"
   ]
  },
  {
   "cell_type": "markdown",
   "metadata": {},
   "source": [
    "## => We don't see a huge difference between the classifiers so we take the one that overfits the least and keeps the highest accuracy"
   ]
  },
  {
   "cell_type": "markdown",
   "metadata": {},
   "source": [
    "# Final Model"
   ]
  },
  {
   "cell_type": "markdown",
   "metadata": {},
   "source": [
    "## 1- Without Probabilistic view\n",
    "\n",
    "Without Probabilities = True in the SVM Model\n",
    "\n",
    "The accuracy can be computed but only one point on the ROC curve"
   ]
  },
  {
   "cell_type": "code",
   "execution_count": 54,
   "metadata": {},
   "outputs": [
    {
     "data": {
      "image/png": "[encoded data removed]",
      "text/plain": [
       "<Figure size 432x288 with 1 Axes>"
      ]
     },
     "metadata": {
      "needs_background": "light"
     },
     "output_type": "display_data"
    },
    {
     "name": "stdout",
     "output_type": "stream",
     "text": [
      "Accuracies training set: [0.84602897 0.84667249 0.84779623 0.84717193 0.84681648 0.84394507]\n",
      "Accuracies test set: [0.8353088  0.82521848 0.8227216  0.81835206 0.82323548 0.84134916]\n"
     ]
    }
   ],
   "source": [
    "\"\"\" Final model with rbf \"\"\"\n",
    "# Extracted from: https://scikit-learn.org/stable/auto_examples/model_selection/plot_roc_crossval.html\n",
    "\n",
    "\n",
    "# setup\n",
    "n_splits = 6\n",
    "opt_PCs = 80 # Seen to be the best number of PCs from previous analysis\n",
    "\n",
    "cv = StratifiedKFold(n_splits=n_splits)\n",
    "clf = make_pipeline(StandardScaler(), PCA(n_components=opt_PCs), svm.SVC(kernel='rbf', gamma='scale'))\n",
    "accuracies_trainingSet = np.zeros(n_splits)\n",
    "accuracies_testSet = np.zeros(n_splits)\n",
    "\n",
    "tprs = []\n",
    "aucs = []\n",
    "mean_fpr = np.linspace(0, 1, 100)\n",
    "\n",
    "\n",
    "i = 0\n",
    "for train, test in cv.split(fKH41_features, fKH41_labels):\n",
    "    # Model + Accuracies\n",
    "    data_train, labels_train = fKH41_features[train], fKH41_labels[train]\n",
    "    data_test, labels_test = fKH41_features[test], fKH41_labels[test]\n",
    "    y_score = clf.fit(data_train, labels_train)\n",
    "    y_predict = clf.predict(data_test)\n",
    "    y_predict_train = clf.predict(data_train)\n",
    "    accuracies_trainingSet[i] = metrics.accuracy_score(labels_train, y_predict_train)\n",
    "    accuracies_testSet[i] = metrics.accuracy_score(labels_test, y_predict)\n",
    "    \n",
    "    # ROC curves and area the curve\n",
    "    fpr, tpr, thresholds = roc_curve(labels_test, y_predict)\n",
    "    tprs.append(interp(mean_fpr, fpr, tpr))\n",
    "    tprs[-1][0] = 0.0\n",
    "    roc_auc = auc(fpr, tpr)\n",
    "    aucs.append(roc_auc)\n",
    "    plt.plot(fpr, tpr, lw=1, alpha=0.3,\n",
    "             label='ROC fold %d (AUC = %0.2f)' % (i, roc_auc))\n",
    "    \n",
    "    i += 1\n",
    "\n",
    "mean_tpr = np.mean(tprs, axis=0)\n",
    "mean_tpr[-1] = 1.0\n",
    "mean_auc = auc(mean_fpr, mean_tpr)\n",
    "std_auc = np.std(aucs)\n",
    "plt.plot(mean_fpr, mean_tpr, color='b',\n",
    "         label=r'Mean ROC (AUC = %0.2f $\\pm$ %0.2f)' % (mean_auc, std_auc),\n",
    "         lw=2, alpha=.8)\n",
    "\n",
    "std_tpr = np.std(tprs, axis=0)\n",
    "tprs_upper = np.minimum(mean_tpr + std_tpr, 1)\n",
    "tprs_lower = np.maximum(mean_tpr - std_tpr, 0)\n",
    "plt.fill_between(mean_fpr, tprs_lower, tprs_upper, color='grey', alpha=.2,\n",
    "                 label=r'$\\pm$ 1 std. dev.')       \n",
    "    \n",
    "plt.plot([0, 1], [0, 1], linestyle='--', lw=2, color='r',\n",
    "         label='Chance', alpha=.8)    \n",
    "plt.xlim([-0.05, 1.05])\n",
    "plt.ylim([-0.05, 1.05])\n",
    "plt.xlabel('False Positive Rate')\n",
    "plt.ylabel('True Positive Rate')\n",
    "plt.title('Receiver operating characteristic example')\n",
    "plt.legend(loc=\"lower right\")\n",
    "plt.show()\n",
    "\n",
    "    \n",
    "print(\"Accuracies training set:\",accuracies_trainingSet)\n",
    "print(\"Accuracies test set:\",accuracies_testSet)"
   ]
  },
  {
   "cell_type": "code",
   "execution_count": 1,
   "metadata": {},
   "outputs": [
    {
     "ename": "NameError",
     "evalue": "name 'plt' is not defined",
     "output_type": "error",
     "traceback": [
      "\u001b[1;31m---------------------------------------------------------------------------\u001b[0m",
      "\u001b[1;31mNameError\u001b[0m                                 Traceback (most recent call last)",
      "\u001b[1;32m<ipython-input-1-e63564347403>\u001b[0m in \u001b[0;36m<module>\u001b[1;34m\u001b[0m\n\u001b[1;32m----> 1\u001b[1;33m plt.plot(mean_fpr, mean_tpr, color='b',\n\u001b[0m\u001b[0;32m      2\u001b[0m          \u001b[0mlabel\u001b[0m\u001b[1;33m=\u001b[0m\u001b[1;34mr'Mean ROC (AUC = %0.2f $\\pm$ %0.2f)'\u001b[0m \u001b[1;33m%\u001b[0m \u001b[1;33m(\u001b[0m\u001b[0mmean_auc\u001b[0m\u001b[1;33m,\u001b[0m \u001b[0mstd_auc\u001b[0m\u001b[1;33m)\u001b[0m\u001b[1;33m,\u001b[0m\u001b[1;33m\u001b[0m\u001b[1;33m\u001b[0m\u001b[0m\n\u001b[0;32m      3\u001b[0m          lw=2, alpha=.8)\n\u001b[0;32m      4\u001b[0m \u001b[1;33m\u001b[0m\u001b[0m\n\u001b[0;32m      5\u001b[0m \u001b[0mstd_tpr\u001b[0m \u001b[1;33m=\u001b[0m \u001b[0mnp\u001b[0m\u001b[1;33m.\u001b[0m\u001b[0mstd\u001b[0m\u001b[1;33m(\u001b[0m\u001b[0mtprs\u001b[0m\u001b[1;33m,\u001b[0m \u001b[0maxis\u001b[0m\u001b[1;33m=\u001b[0m\u001b[1;36m0\u001b[0m\u001b[1;33m)\u001b[0m\u001b[1;33m\u001b[0m\u001b[1;33m\u001b[0m\u001b[0m\n",
      "\u001b[1;31mNameError\u001b[0m: name 'plt' is not defined"
     ]
    }
   ],
   "source": [
    "plt.plot(mean_fpr, mean_tpr, color='b',\n",
    "         label=r'Mean ROC (AUC = %0.2f $\\pm$ %0.2f)' % (mean_auc, std_auc),\n",
    "         lw=2, alpha=.8)\n",
    "\n",
    "std_tpr = np.std(tprs, axis=0)\n",
    "tprs_upper = np.minimum(mean_tpr + std_tpr, 1)\n",
    "tprs_lower = np.maximum(mean_tpr - std_tpr, 0)\n",
    "plt.fill_between(mean_fpr, tprs_lower, tprs_upper, color='grey', alpha=.2,\n",
    "                 label=r'$\\pm$ 1 std. dev.')       \n",
    "    \n",
    "plt.plot([0, 1], [0, 1], linestyle='--', lw=2, color='r',\n",
    "         label='Chance', alpha=.8)    \n",
    "plt.xlim([-0.05, 1.05])\n",
    "plt.ylim([-0.05, 1.05])\n",
    "plt.xlabel('False Positive Rate')\n",
    "plt.ylabel('True Positive Rate')\n",
    "plt.title('Receiver operating characteristic example')\n",
    "plt.legend(loc=\"lower right\")\n",
    "plt.show()\n",
    "\n",
    "    \n",
    "print(\"Accuracies training set:\",accuracies_trainingSet)\n",
    "print(\"Accuracies test set:\",accuracies_testSet)\n",
    "\n",
    "plt.savefig() # same as plt.savefig(0)\n",
    "plt.savefig(5)"
   ]
  },
  {
   "cell_type": "markdown",
   "metadata": {},
   "source": [
    "## 2- Creating a precise ROC curve using several thresholds with the Probabilistic view\n",
    "\n",
    "With Probabilities = True in the SVM Model\n",
    "\n",
    "No accuracy can be computed (apparently)"
   ]
  },
  {
   "cell_type": "code",
   "execution_count": 55,
   "metadata": {},
   "outputs": [
    {
     "data": {
      "image/png": "[encoded data removed]",
      "text/plain": [
       "<Figure size 432x288 with 1 Axes>"
      ]
     },
     "metadata": {
      "needs_background": "light"
     },
     "output_type": "display_data"
    }
   ],
   "source": [
    "\"\"\" Final model with rbf \"\"\"\n",
    "# Extracted from: https://scikit-learn.org/stable/auto_examples/model_selection/plot_roc_crossval.html\n",
    "\n",
    "\n",
    "# setup\n",
    "n_splits = 6\n",
    "opt_PCs = 80 # Seen to be the best number of PCs from previous analysis\n",
    "cv = StratifiedKFold(n_splits=n_splits)\n",
    "# clf = make_pipeline(StandardScaler(), PCA(n_components=opt_PCs), svm.SVC(kernel='rbf', gamma='scale'))\n",
    "clf = make_pipeline(StandardScaler(), PCA(n_components=opt_PCs), svm.SVC(kernel='rbf', gamma='scale', probability=True))\n",
    "# accuracies_trainingSet = np.zeros(n_splits)\n",
    "# accuracies_testSet = np.zeros(n_splits)\n",
    "\n",
    "tprs = []\n",
    "aucs = []\n",
    "mean_fpr = np.linspace(0, 1, 100)\n",
    "\n",
    "\n",
    "i = 0\n",
    "for train, test in cv.split(fKH41_features, fKH41_labels):\n",
    "    # Model + Accuracies\n",
    "    data_train, labels_train = fKH41_features[train], fKH41_labels[train]\n",
    "    data_test, labels_test = fKH41_features[test], fKH41_labels[test]\n",
    "    y_score = clf.fit(data_train, labels_train)\n",
    "#     y_predict = clf.predict(data_test)\n",
    "    y_predict = clf.predict_proba(data_test)\n",
    "    y_predict_train = clf.predict(data_train)\n",
    "#     accuracies_trainingSet[i] = metrics.accuracy_score(labels_train, y_predict_train)\n",
    "#     accuracies_testSet[i] = metrics.accuracy_score(labels_test, y_predict)\n",
    "    \n",
    "    # ROC curves and area the curve\n",
    "    fpr, tpr, thresholds = roc_curve(labels_test, y_predict[:, 1])\n",
    "    tprs.append(interp(mean_fpr, fpr, tpr))\n",
    "    tprs[-1][0] = 0.0\n",
    "    roc_auc = auc(fpr, tpr)\n",
    "    aucs.append(roc_auc)\n",
    "    plt.plot(fpr, tpr, lw=1, alpha=0.3,\n",
    "             label='ROC fold %d (AUC = %0.2f)' % (i, roc_auc))\n",
    "    \n",
    "    i += 1\n",
    "\n",
    "mean_tpr = np.mean(tprs, axis=0)\n",
    "mean_tpr[-1] = 1.0\n",
    "mean_auc = auc(mean_fpr, mean_tpr)\n",
    "std_auc = np.std(aucs)\n",
    "plt.plot(mean_fpr, mean_tpr, color='b',\n",
    "         label=r'Mean ROC (AUC = %0.2f $\\pm$ %0.2f)' % (mean_auc, std_auc),\n",
    "         lw=2, alpha=.8)\n",
    "\n",
    "std_tpr = np.std(tprs, axis=0)\n",
    "tprs_upper = np.minimum(mean_tpr + std_tpr, 1)\n",
    "tprs_lower = np.maximum(mean_tpr - std_tpr, 0)\n",
    "plt.fill_between(mean_fpr, tprs_lower, tprs_upper, color='grey', alpha=.2,\n",
    "                 label=r'$\\pm$ 1 std. dev.')       \n",
    "    \n",
    "plt.plot([0, 1], [0, 1], linestyle='--', lw=2, color='r',\n",
    "         label='Chance', alpha=.8)    \n",
    "plt.xlim([-0.05, 1.05])\n",
    "plt.ylim([-0.05, 1.05])\n",
    "plt.xlabel('False Positive Rate')\n",
    "plt.ylabel('True Positive Rate')\n",
    "plt.title('Receiver operating characteristic example')\n",
    "plt.legend(loc=\"lower right\")\n",
    "plt.show()\n",
    "\n",
    "    \n",
    "# print(\"Accuracies training set:\",accuracies_trainingSet)\n",
    "# print(\"Accuracies test set:\",accuracies_testSet)"
   ]
  },
  {
   "cell_type": "markdown",
   "metadata": {},
   "source": [
    "# Just a small test of ROC curves"
   ]
  },
  {
   "cell_type": "code",
   "execution_count": 18,
   "metadata": {},
   "outputs": [
    {
     "data": {
      "text/plain": [
       "<matplotlib.legend.Legend at 0x20d3931a4e0>"
      ]
     },
     "execution_count": 18,
     "metadata": {},
     "output_type": "execute_result"
    },
    {
     "data": {
      "image/png": "[encoded data removed]",
      "text/plain": [
       "<Figure size 432x288 with 1 Axes>"
      ]
     },
     "metadata": {
      "needs_background": "light"
     },
     "output_type": "display_data"
    }
   ],
   "source": [
    "\"\"\"Run a ROC and display AUC\"\"\"\n",
    "from sklearn.metrics import roc_curve, auc\n",
    "from scipy import interp\n",
    "\n",
    "tprs = []\n",
    "aucs = []\n",
    "mean_fpr = np.linspace(0, 1, 100)\n",
    "\n",
    "\n",
    "# probas_ = classifier.fit(X[train], y[train]).predict_proba(X[test])\n",
    "\n",
    "\n",
    "# Compute ROC curve and area the curve\n",
    "fpr, tpr, thresholds = roc_curve(labels_test, y_predict)\n",
    "tprs.append(interp(mean_fpr, fpr, tpr))\n",
    "tprs[-1][0] = 0.0\n",
    "roc_auc = auc(fpr, tpr)\n",
    "aucs.append(roc_auc)\n",
    "plt.plot(fpr, tpr, lw=1, alpha=0.3,\n",
    "         label='ROC (AUC = %0.2f)' %roc_auc)\n",
    "plt.plot([0, 1], [0, 1], linestyle='--', lw=2, color='r',\n",
    "         label='Chance', alpha=.8)\n",
    "plt.legend(loc='upper left')"
   ]
  },
  {
   "cell_type": "code",
   "execution_count": 26,
   "metadata": {},
   "outputs": [
    {
     "name": "stdout",
     "output_type": "stream",
     "text": [
      "[2 1 0]\n",
      "[0 1]\n"
     ]
    }
   ],
   "source": [
    "\"\"\"Some tests\"\"\"\n",
    "\n",
    "print(thresholds)\n",
    "\n",
    "confusion_matrix(labels_test, y_predict) \n",
    "\n",
    "print(np.unique(labels_train))"
   ]
  },
  {
   "cell_type": "code",
   "execution_count": null,
   "metadata": {},
   "outputs": [],
   "source": []
  }
 ],
 "metadata": {
  "kernelspec": {
   "display_name": "Python 3",
   "language": "python",
   "name": "python3"
  },
  "language_info": {
   "codemirror_mode": {
    "name": "ipython",
    "version": 3
   },
   "file_extension": ".py",
   "mimetype": "text/x-python",
   "name": "python",
   "nbconvert_exporter": "python",
   "pygments_lexer": "ipython3",
   "version": "3.6.8"
  }
 },
 "nbformat": 4,
 "nbformat_minor": 2
}
