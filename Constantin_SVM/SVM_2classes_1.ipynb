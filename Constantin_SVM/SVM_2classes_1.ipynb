{
 "cells": [
  {
   "cell_type": "code",
   "execution_count": 77,
   "metadata": {},
   "outputs": [],
   "source": [
    "from __future__ import absolute_import, division, print_function\n",
    "from matplotlib.font_manager import _rebuild; _rebuild()\n",
    "import matplotlib.pyplot as plt\n",
    "%matplotlib inline\n",
    "import tensorflow as tf\n",
    "\n",
    "#Helper libraries\n",
    "import numpy as np\n",
    "import matplotlib.pyplot as plt\n",
    "import pandas\n",
    "import scipy.io as spio\n",
    "from keras.models import Sequential\n",
    "from keras.layers import Dense\n",
    "from keras.wrappers.scikit_learn import KerasClassifier\n",
    "from keras.utils import np_utils\n",
    "from sklearn.model_selection import cross_val_score\n",
    "from sklearn.model_selection import KFold\n",
    "from sklearn.preprocessing import LabelEncoder\n",
    "from sklearn.pipeline import Pipeline\n",
    "from sklearn.model_selection import train_test_split\n",
    "from sklearn import metrics\n",
    "from sklearn.metrics import confusion_matrix \n",
    "from sklearn import svm\n",
    "\n",
    "tf.logging.set_verbosity(tf.logging.INFO)"
   ]
  },
  {
   "cell_type": "code",
   "execution_count": 78,
   "metadata": {},
   "outputs": [],
   "source": [
    "\"\"\"Load the dataset and set randomness.\"\"\"\n",
    "\n",
    "# Initialize random number generator for reproducibility.\n",
    "seed = 7\n",
    "np.random.seed(seed)\n",
    "\n",
    "# Load in dataset.\n",
    "data = spio.loadmat(\"features_10s_2019-01-30.mat\");\n",
    "features = data['features'];\n",
    "labels = data['labels_features'];\n",
    "animal_id_features = data['animal_id_features'];\n",
    "\n",
    "# Flatten animal IDs so we can slice by animal.\n",
    "id_features = np.ravel(animal_id_features);\n",
    "\n",
    "# Count number of features per animal label.\n",
    "features_per_animal = np.bincount(id_features);\n",
    "\n",
    "# Get only features corresponding to first animal.\n",
    "fKH41_num_samples = features_per_animal[1];\n",
    "fKH41_features = features[1:fKH41_num_samples];\n",
    "\n",
    "# Get only labels corresponding to first animal's features.\n",
    "fKH41_labels = labels[:,1:fKH41_num_samples];\n",
    "fKH41_labels = fKH41_labels.transpose();"
   ]
  },
  {
   "cell_type": "code",
   "execution_count": 79,
   "metadata": {},
   "outputs": [
    {
     "name": "stdout",
     "output_type": "stream",
     "text": [
      "(96665, 1)\n"
     ]
    }
   ],
   "source": [
    "print(fKH41_labels.shape)"
   ]
  },
  {
   "cell_type": "code",
   "execution_count": 80,
   "metadata": {},
   "outputs": [
    {
     "name": "stdout",
     "output_type": "stream",
     "text": [
      "(96115,)\n",
      "(96115, 141)\n"
     ]
    }
   ],
   "source": [
    "\"\"\"Reduce the number of classes: delete the seizures\"\"\"\n",
    "# Method 1\n",
    "\n",
    "a = np.where(fKH41_labels == 2)\n",
    "\n",
    "fKH41_labels_tmp = np.delete(fKH41_labels, a)\n",
    "fKH41_features_tmp = np.delete(fKH41_features, a, 0);\n",
    "fKH41_labels = fKH41_labels_tmp\n",
    "fKH41_features = fKH41_features_tmp\n",
    "\n",
    "print(fKH41_labels.shape)\n",
    "print(fKH41_features.shape)"
   ]
  },
  {
   "cell_type": "code",
   "execution_count": 81,
   "metadata": {},
   "outputs": [
    {
     "data": {
      "text/plain": [
       "'Reduce the number of classes: delete the seizures'"
      ]
     },
     "execution_count": 81,
     "metadata": {},
     "output_type": "execute_result"
    }
   ],
   "source": [
    "\"\"\"Reduce the number of classes: delete the seizures\"\"\"\n",
    "# Method 2\n",
    "\n",
    "# for i in range(len(fKH41_labels)):\n",
    "#     if fKH41_labels[i] == 2:\n",
    "#         fKH41_labels_tmp = np.delete(fKH41_labels, i)\n",
    "#         fKH41_features_tmp = np.delete(fKH41_features, i, 0);\n",
    "# fKH41_labels = fKH41_labels_tmp\n",
    "# fKH41_features = fKH41_features_tmp\n",
    "\n",
    "\n",
    "\n"
   ]
  },
  {
   "cell_type": "code",
   "execution_count": 82,
   "metadata": {},
   "outputs": [],
   "source": [
    "\"\"\"Split data into training and testing for cross-validation.\"\"\"\n",
    "data_train, data_test, labels_train, labels_test = train_test_split(fKH41_features, fKH41_labels, test_size=0.20, random_state=seed);"
   ]
  },
  {
   "cell_type": "code",
   "execution_count": 83,
   "metadata": {},
   "outputs": [],
   "source": [
    "\"\"\"Shuffling the data to train/test on smaller subsets\"\"\"\n",
    "shuffled_data_train = np.empty(data_train.shape, dtype=data_train.dtype)\n",
    "shuffled_labels_train = np.empty(labels_train.shape, dtype=labels_train.dtype)\n",
    "permutation = np.random.permutation(len(labels_train))\n",
    "for old_index, new_index in enumerate(permutation):\n",
    "        shuffled_data_train [new_index] = data_train[old_index]\n",
    "        shuffled_labels_train[new_index] = labels_train[old_index]\n",
    "data_train = shuffled_data_train\n",
    "labels_train = shuffled_labels_train\n",
    "\n",
    "\"\"\"Shuffling the data to train/test on smaller subsets\"\"\"\n",
    "shuffled_data_test = np.empty(data_test.shape, dtype=data_test.dtype)\n",
    "shuffled_labels_test = np.empty(labels_test.shape, dtype=labels_test.dtype)\n",
    "permutation = np.random.permutation(len(labels_test))\n",
    "for old_index, new_index in enumerate(permutation):\n",
    "        shuffled_data_test [new_index] = data_test[old_index]\n",
    "        shuffled_labels_test[new_index] = labels_test[old_index]\n",
    "data_test = shuffled_data_test\n",
    "labels_test = shuffled_labels_test\n",
    "    "
   ]
  },
  {
   "cell_type": "code",
   "execution_count": 84,
   "metadata": {},
   "outputs": [],
   "source": [
    "\"\"\"Reducing the size of the vectors for easier computation\"\"\"\n",
    "factor = 20\n",
    "\n",
    "data_train = data_train[0:int(len(data_train)/factor),:]\n",
    "labels_train = labels_train[0:np.int(len(labels_train)/factor)]\n",
    "\n",
    "data_test = data_test[0:int(len(data_test)/factor),:]\n",
    "labels_test = labels_test[0:np.int(len(labels_test)/factor)]"
   ]
  },
  {
   "cell_type": "code",
   "execution_count": 85,
   "metadata": {},
   "outputs": [],
   "source": [
    "\"\"\"Reducing the number of features as well\"\"\"\n",
    "features_kept = 70\n",
    "data_train = data_train[:,0:features_kept]\n",
    "data_test = data_test[:,0:features_kept]"
   ]
  },
  {
   "cell_type": "code",
   "execution_count": 86,
   "metadata": {},
   "outputs": [
    {
     "name": "stdout",
     "output_type": "stream",
     "text": [
      "(3844,)\n",
      "(961,)\n"
     ]
    }
   ],
   "source": [
    "print(labels_train.shape)\n",
    "print(labels_test.shape)"
   ]
  },
  {
   "cell_type": "code",
   "execution_count": 87,
   "metadata": {},
   "outputs": [],
   "source": [
    "\"\"\"Define the SVM model \"\"\"\n",
    "\n",
    "clf = svm.SVC(gamma='scale')\n",
    " \n",
    "#clf = svm.LinearSVC()"
   ]
  },
  {
   "cell_type": "code",
   "execution_count": 88,
   "metadata": {},
   "outputs": [],
   "source": [
    "y_score = clf.fit(data_train, labels_train)  "
   ]
  },
  {
   "cell_type": "code",
   "execution_count": 89,
   "metadata": {},
   "outputs": [],
   "source": [
    "y_predict = clf.predict(data_test)\n",
    "y_predict_train = clf.predict(data_train)"
   ]
  },
  {
   "cell_type": "code",
   "execution_count": 90,
   "metadata": {},
   "outputs": [
    {
     "name": "stdout",
     "output_type": "stream",
     "text": [
      "Accuracy test set: 0.7460978147762747\n",
      "Accuracy train set: 0.7565036420395421\n"
     ]
    }
   ],
   "source": [
    "print(\"Accuracy test set:\",metrics.accuracy_score(labels_test, y_predict))\n",
    "print(\"Accuracy train set:\",metrics.accuracy_score(labels_train, y_predict_train))"
   ]
  },
  {
   "cell_type": "code",
   "execution_count": 91,
   "metadata": {},
   "outputs": [
    {
     "data": {
      "text/plain": [
       "array([[362, 148],\n",
       "       [ 96, 355]], dtype=int64)"
      ]
     },
     "execution_count": 91,
     "metadata": {},
     "output_type": "execute_result"
    }
   ],
   "source": [
    "confusion_matrix(labels_test, y_predict) "
   ]
  },
  {
   "cell_type": "code",
   "execution_count": 94,
   "metadata": {},
   "outputs": [
    {
     "data": {
      "text/plain": [
       "[<matplotlib.lines.Line2D at 0x2a667935b70>]"
      ]
     },
     "execution_count": 94,
     "metadata": {},
     "output_type": "execute_result"
    },
    {
     "data": {
      "image/png": "[encoded data removed]",
      "text/plain": [
       "<Figure size 432x288 with 1 Axes>"
      ]
     },
     "metadata": {
      "needs_background": "light"
     },
     "output_type": "display_data"
    }
   ],
   "source": [
    "\"\"\"Run a ROC and display AUC\"\"\"\n",
    "from sklearn.metrics import roc_curve, auc\n",
    "from scipy import interp\n",
    "\n",
    "tprs = []\n",
    "aucs = []\n",
    "mean_fpr = np.linspace(0, 1, 100)\n",
    "\n",
    "\n",
    "# probas_ = classifier.fit(X[train], y[train]).predict_proba(X[test])\n",
    "\n",
    "\n",
    "# Compute ROC curve and area the curve\n",
    "fpr, tpr, thresholds = roc_curve(labels_test, y_predict)\n",
    "tprs.append(interp(mean_fpr, fpr, tpr))\n",
    "tprs[-1][0] = 0.0\n",
    "roc_auc = auc(fpr, tpr)\n",
    "aucs.append(roc_auc)\n",
    "plt.plot(fpr, tpr, lw=1, alpha=0.3,\n",
    "         label='ROC')\n",
    "plt.plot([0, 1], [0, 1], linestyle='--', lw=2, color='r',\n",
    "         label='Chance', alpha=.8)"
   ]
  },
  {
   "cell_type": "code",
   "execution_count": null,
   "metadata": {},
   "outputs": [],
   "source": [
    "\"\"\"Using a PCA to keep relevant features\"\"\"\n",
    "from sklearn.decomposition import PCA\n",
    "\n",
    "\n",
    "\n",
    "\n",
    "pca = PCA(n_components=2)\n",
    "pca.fit(X)"
   ]
  }
 ],
 "metadata": {
  "kernelspec": {
   "display_name": "Python 3",
   "language": "python",
   "name": "python3"
  },
  "language_info": {
   "codemirror_mode": {
    "name": "ipython",
    "version": 3
   },
   "file_extension": ".py",
   "mimetype": "text/x-python",
   "name": "python",
   "nbconvert_exporter": "python",
   "pygments_lexer": "ipython3",
   "version": "3.6.8"
  }
 },
 "nbformat": 4,
 "nbformat_minor": 2
}
