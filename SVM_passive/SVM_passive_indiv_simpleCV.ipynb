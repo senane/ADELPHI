{
 "cells": [
  {
   "cell_type": "code",
   "execution_count": 1,
   "metadata": {},
   "outputs": [
    {
     "name": "stderr",
     "output_type": "stream",
     "text": [
      "Using TensorFlow backend.\n"
     ]
    }
   ],
   "source": [
    "from __future__ import absolute_import, division, print_function\n",
    "from matplotlib.font_manager import _rebuild; _rebuild()\n",
    "import matplotlib.pyplot as plt\n",
    "%matplotlib inline\n",
    "import tensorflow as tf\n",
    "\n",
    "#Helper libraries\n",
    "import numpy as np\n",
    "import matplotlib.pyplot as plt\n",
    "import pandas as pd\n",
    "import scipy.io as spio\n",
    "from keras.models import Sequential\n",
    "from keras.layers import Dense\n",
    "from keras.wrappers.scikit_learn import KerasClassifier\n",
    "from keras.utils import np_utils\n",
    "from sklearn.model_selection import cross_val_score\n",
    "from sklearn.model_selection import KFold\n",
    "from sklearn.preprocessing import LabelEncoder\n",
    "from sklearn.pipeline import Pipeline\n",
    "from sklearn.model_selection import train_test_split\n",
    "from sklearn import metrics\n",
    "from sklearn.metrics import confusion_matrix \n",
    "from sklearn import svm\n",
    "from sklearn.pipeline import make_pipeline\n",
    "from sklearn.preprocessing import StandardScaler\n",
    "from sklearn.decomposition import PCA\n",
    "from sklearn.model_selection import StratifiedKFold\n",
    "from sklearn.metrics import roc_curve, auc\n",
    "from scipy import interp\n",
    "\n",
    "tf.logging.set_verbosity(tf.logging.INFO)"
   ]
  },
  {
   "cell_type": "code",
   "execution_count": 58,
   "metadata": {},
   "outputs": [],
   "source": [
    "\"\"\"Set all global parameters to be monitored\"\"\"\n",
    "\n",
    "n_splits = 2\n",
    "factor_red = 1\n",
    "\n",
    "# choice of the number of features kept after PCA\n",
    "nb_feats = 15\n",
    "\n",
    "# To choose how to split the samples: randomly (1) or chronologically (2)\n",
    "method_split = 'chronological' # RANDOM or CHRONOLOGICAL\n",
    "\n",
    "# To choose how to assess the performance of the classifier: with AUC or accuracy\n",
    "method_metrics = 1 # 1 for AUC, 2 for ACCURACY"
   ]
  },
  {
   "cell_type": "code",
   "execution_count": 59,
   "metadata": {},
   "outputs": [],
   "source": [
    "\"\"\"Set sthe animal ID\"\"\"\n",
    "\n",
    "animal_ID = 4\n",
    "animal_names = {1: \"fKH41\", 2: \"fKH42\", 3: \"fKH43\", 4: \"fKH47\", 5: \"fKH50\", 6: \"fKH51\", 7: \"fKH52\", 8: \"fKH54\", 9: \"fKH56\", 10: \"fKH57\", 11: \"fKH58\", 12: \"fKH33\"}\n",
    "animal_name = animal_names[animal_ID]"
   ]
  },
  {
   "cell_type": "code",
   "execution_count": 60,
   "metadata": {},
   "outputs": [
    {
     "name": "stdout",
     "output_type": "stream",
     "text": [
      "(12479, 1)\n",
      "(12479, 141)\n"
     ]
    }
   ],
   "source": [
    "\"\"\"Load the dataset and set randomness.\"\"\"\n",
    "# (from Emma's code)\n",
    "\n",
    "# Initialize random number generator for reproducibility.\n",
    "seed = 7\n",
    "np.random.seed(seed)\n",
    "\n",
    "# Load in dataset.\n",
    "data = spio.loadmat(\"C:\\\\Users\\\\Constantin\\\\Documents\\\\Project with Senan\\\\Passive data\\\\features_10s_2019-01-30.mat\");\n",
    "features = data['features'];\n",
    "labels = data['labels_features'];\n",
    "animal_id_features = data['animal_id_features'];\n",
    "\n",
    "# Flatten animal IDs so we can slice by animal.\n",
    "id_features = np.ravel(animal_id_features);\n",
    "\n",
    "# Indexes animal of interest.\n",
    "indexes = np.where(id_features == animal_ID)\n",
    "indexes = np.ravel(indexes)\n",
    "\n",
    "# Get only features corresponding to animal selected.\n",
    "animal_features = np.array([features[index, :] for index in indexes])\n",
    "labels = labels.transpose()\n",
    "animal_labels = np.array([labels[index] for index in indexes]);\n",
    "\n",
    "print(animal_labels.shape)\n",
    "print(animal_features.shape)"
   ]
  },
  {
   "cell_type": "code",
   "execution_count": 61,
   "metadata": {},
   "outputs": [
    {
     "name": "stdout",
     "output_type": "stream",
     "text": [
      "(12410,)\n",
      "(12410, 141)\n"
     ]
    }
   ],
   "source": [
    "\"\"\"Reduce the number of classes: delete the seizures - Prediction model\"\"\"\n",
    "\n",
    "a = np.where(animal_labels == 2)\n",
    "\n",
    "labels_tmp = np.delete(animal_labels, a)\n",
    "features_tmp = np.delete(animal_features, a, 0);\n",
    "animal_labels = labels_tmp\n",
    "animal_features = features_tmp\n",
    "\n",
    "print(animal_labels.shape)\n",
    "print(animal_features.shape)"
   ]
  },
  {
   "cell_type": "code",
   "execution_count": 62,
   "metadata": {},
   "outputs": [],
   "source": [
    "\"\"\"if method = RANDOM: Shuffling the data \"\"\"\n",
    "\n",
    "if method_split == 'random':\n",
    "    random_idx = np.random.permutation(len(animal_labels))\n",
    "    animal_features_shuffled = animal_features[random_idx , :]\n",
    "    animal_labels_shuffled = animal_labels[random_idx]\n",
    "\n",
    "    \n",
    "# if method_split == 'random':\n",
    "#     shuffled_animal_features = np.empty(animal_features.shape, dtype=animal_features.dtype)\n",
    "#     shuffled_animal_labels = np.empty(animal_labels.shape, dtype=animal_labels.dtype)\n",
    "#     permutation = np.random.permutation(len(animal_labels))\n",
    "#     for old_index, new_index in enumerate(permutation):\n",
    "#             shuffled_animal_features [new_index] = animal_features[old_index]\n",
    "#             shuffled_animal_labels[new_index] = animal_labels[old_index]\n",
    "    animal_features = animal_features_shuffled\n",
    "    animal_labels = animal_labels_shuffled"
   ]
  },
  {
   "cell_type": "code",
   "execution_count": 63,
   "metadata": {},
   "outputs": [],
   "source": [
    "\"\"\"Reducing the size of the vectors for easier computation\"\"\"\n",
    "factor = factor_red\n",
    "\n",
    "animal_features = animal_features[0:int(len(animal_features)/factor),:]\n",
    "animal_labels = animal_labels[0:np.int(len(animal_labels)/factor)]"
   ]
  },
  {
   "cell_type": "code",
   "execution_count": 64,
   "metadata": {},
   "outputs": [
    {
     "name": "stdout",
     "output_type": "stream",
     "text": [
      "(12410,)\n",
      "(12410, 141)\n"
     ]
    }
   ],
   "source": [
    "print(animal_labels.shape)\n",
    "print(animal_features.shape)"
   ]
  },
  {
   "cell_type": "code",
   "execution_count": 65,
   "metadata": {},
   "outputs": [
    {
     "name": "stdout",
     "output_type": "stream",
     "text": [
      "TRAIN: [ 2975  2976  2977 ... 12407 12408 12409] TEST: [   0    1    2 ... 9177 9178 9179]\n",
      "TRAIN: [   0    1    2 ... 9177 9178 9179] TEST: [ 2975  2976  2977 ... 12407 12408 12409]\n",
      "2975\n",
      "3231\n",
      "2974\n",
      "3230\n"
     ]
    }
   ],
   "source": [
    "cv_o = StratifiedKFold(n_splits=n_splits)\n",
    "\n",
    "for train_o, test in cv_o.split(animal_features, animal_labels):\n",
    "    print(\"TRAIN:\", train_o, \"TEST:\", test)\n",
    "    data_train_o = animal_features[train_o]\n",
    "    data_test = animal_features[test]\n",
    "    labels_train_o = animal_labels[train_o]\n",
    "    labels_test = animal_labels[test]\n",
    "\n",
    "print(np.count_nonzero(labels_train_o==1))\n",
    "print(np.count_nonzero(labels_train_o==0))\n",
    "\n",
    "print(np.count_nonzero(labels_test==1))\n",
    "print(np.count_nonzero(labels_test==0))"
   ]
  },
  {
   "cell_type": "markdown",
   "metadata": {},
   "source": [
    "## Cross validation loop"
   ]
  },
  {
   "cell_type": "code",
   "execution_count": 66,
   "metadata": {},
   "outputs": [
    {
     "name": "stdout",
     "output_type": "stream",
     "text": [
      "Process ended, fold  0\n",
      "Process ended, fold  1\n"
     ]
    },
    {
     "data": {
      "image/png": "[encoded data removed]",
      "text/plain": [
       "<Figure size 432x288 with 1 Axes>"
      ]
     },
     "metadata": {
      "needs_background": "light"
     },
     "output_type": "display_data"
    }
   ],
   "source": [
    "\"\"\"Split data into training and testing sets\"\"\"\n",
    "\n",
    "# parameters:\n",
    "n_splits = n_splits\n",
    "nb_features_tot = animal_features.shape[1]\n",
    "\n",
    "cv = StratifiedKFold(n_splits=n_splits, random_state=None, shuffle=False)\n",
    "\n",
    "if method_metrics == 1:\n",
    "    AUC = np.zeros(n_splits)\n",
    "    tprs = []\n",
    "    mean_fpr = np.linspace(0, 1, 100)\n",
    "elif method_metrics == 2:\n",
    "    Acc_test = np.zeros(n_splits)\n",
    "    Acc_train = np.zeros(n_splits)\n",
    "\n",
    "\n",
    "\"\"\"CV loop\"\"\"\n",
    "k_out = 0\n",
    "for train, test in cv.split(animal_features, animal_labels):\n",
    "    data_train = animal_features[train]\n",
    "    data_test = animal_features[test]\n",
    "    labels_train = animal_labels[train]\n",
    "    labels_test = animal_labels[test]\n",
    "        \n",
    "    \n",
    "    \"\"\"Performance on the test set\"\"\"\n",
    "    \n",
    "    if method_metrics == 1:\n",
    "        clf = make_pipeline(StandardScaler(), PCA(n_components=int(nb_feats)), svm.SVC(kernel='rbf', gamma='scale', probability=True))\n",
    "        y_score = clf.fit(data_train, labels_train)\n",
    "        y_predict = clf.predict_proba(data_test)\n",
    "        y_predict_train = clf.predict_proba(data_train)\n",
    "        \"\"\"ROC curve\"\"\"\n",
    "        fpr, tpr, thresholds = roc_curve(labels_test, y_predict[:, 1])\n",
    "        tprs.append(interp(mean_fpr, fpr, tpr))\n",
    "        tprs[-1][0] = 0.0\n",
    "        AUC[k_out] = auc(fpr, tpr)\n",
    "        plt.plot(fpr, tpr, lw=1, alpha=0.3,\n",
    "                 label='ROC fold %d (AUC = %0.4f for %d PCs)' % (k_out+1, AUC[k_out], int(nb_feats)))  \n",
    "    elif method_metrics == 2:\n",
    "        clf = make_pipeline(StandardScaler(), PCA(n_components=int(nb_feats)), svm.SVC(kernel='rbf', gamma='scale'))\n",
    "        y_score = clf.fit(data_train, labels_train)\n",
    "        y_predict = clf.predict(data_test)\n",
    "        y_predict_train = clf.predict(data_train)\n",
    "        Acc_test[k_out] = metrics.accuracy_score(labels_test, y_predict)\n",
    "        Acc_train[k_out] = metrics.accuracy_score(labels_train, y_predict_train)\n",
    "    \n",
    "    print('Process ended, fold ', k_out)\n",
    "    k_out += 1\n",
    "\n",
    "if method_metrics == 1:\n",
    "    \"\"\"mean ROC curve\"\"\"             \n",
    "    mean_tpr = np.mean(tprs, axis=0)\n",
    "    mean_tpr[-1] = 1.0\n",
    "    mean_auc = auc(mean_fpr, mean_tpr)\n",
    "    std_auc = np.std(AUC)\n",
    "    plt.plot(mean_fpr, mean_tpr, color='b',\n",
    "             label=r'Mean ROC (AUC = %0.4f $\\pm$ %0.4f)' % (mean_auc, std_auc),\n",
    "             lw=2, alpha=.8)\n",
    "\n",
    "    std_tpr = np.std(tprs, axis=0)\n",
    "    tprs_upper = np.minimum(mean_tpr + std_tpr, 1)\n",
    "    tprs_lower = np.maximum(mean_tpr - std_tpr, 0)\n",
    "    plt.fill_between(mean_fpr, tprs_lower, tprs_upper, color='grey', alpha=.2,\n",
    "                     label=r'$\\pm$ 1 std. dev.')       \n",
    "\n",
    "    plt.plot([0, 1], [0, 1], linestyle='--', lw=2, color='r',\n",
    "             label='Chance', alpha=.8)    \n",
    "    plt.xlim([-0.05, 1.05])\n",
    "    plt.ylim([-0.05, 1.05])\n",
    "    plt.xlabel('False Positive Rate')\n",
    "    plt.ylabel('True Positive Rate')\n",
    "    plt.title('Receiver operating characteristic for subject %s (%d folds, method %s, data reduction factor %d)' % (animal_name, n_splits, method_split, factor_red))\n",
    "    plt.legend(loc=\"lower right\")\n",
    "    plt.savefig('ROC_' + animal_name + '.png')  \n",
    "    plt.show()  \n",
    "elif method_metrics == 2:\n",
    "    print(\"Accuracy test sets: \", Acc_test)\n",
    "    print(\"Accuracy train sets: \", Acc_train)"
   ]
  },
  {
   "cell_type": "code",
   "execution_count": null,
   "metadata": {},
   "outputs": [],
   "source": []
  },
  {
   "cell_type": "code",
   "execution_count": 9,
   "metadata": {},
   "outputs": [],
   "source": [
    "n_splits = n_splits\n",
    "nb_features_tot = animal_features.shape[1]\n",
    "\n",
    "cv = StratifiedKFold(n_splits=n_splits, random_state=None, shuffle=False)\n",
    "\n",
    "if method_metrics == 1:\n",
    "    AUC = np.zeros(n_splits)\n",
    "    tprs = []\n",
    "    mean_fpr = np.linspace(0, 1, 100)\n",
    "elif method_metrics == 2:\n",
    "    Acc_test = np.zeros(n_splits)\n",
    "    Acc_train = np.zeros(n_splits)\n"
   ]
  },
  {
   "cell_type": "code",
   "execution_count": 16,
   "metadata": {},
   "outputs": [
    {
     "name": "stdout",
     "output_type": "stream",
     "text": [
      "[ 2920  2921  2922 ... 24904 24905 24906]\n",
      "9922\n",
      "8757\n",
      "---\n",
      "[    0     1     2 ... 24904 24905 24906]\n",
      "9922\n",
      "8758\n",
      "---\n",
      "[    0     1     2 ... 24904 24905 24906]\n",
      "9923\n",
      "8758\n",
      "---\n",
      "[    0     1     2 ... 21597 21598 21599]\n",
      "9923\n",
      "8758\n",
      "---\n"
     ]
    }
   ],
   "source": [
    "for train, test in cv.split(animal_features, animal_labels):\n",
    "    labels_train = animal_labels[train]\n",
    "    labels_test = animal_labels[test]\n",
    "    print(train)\n",
    "    print(np.sum(labels_train == 0))\n",
    "    print(np.sum(labels_train == 1))\n",
    "    print(\"---\")\n"
   ]
  },
  {
   "cell_type": "code",
   "execution_count": 20,
   "metadata": {},
   "outputs": [],
   "source": [
    "data_train = animal_features[train]\n",
    "data_test = animal_features[test]\n",
    "labels_train = animal_labels[train]\n",
    "labels_test = animal_labels[test]\n",
    "\n",
    "\n",
    "\n",
    "clf = make_pipeline(StandardScaler(), PCA(n_components=int(nb_feats)), svm.SVC(kernel='rbf', gamma='scale', probability=True))\n",
    "y_score = clf.fit(data_train, labels_train)\n",
    "y_predict = clf.predict_proba(data_test)\n",
    "y_predict_train = clf.predict_proba(data_train)"
   ]
  },
  {
   "cell_type": "code",
   "execution_count": 23,
   "metadata": {},
   "outputs": [
    {
     "data": {
      "text/plain": [
       "array([[0.84877918, 0.15122082],\n",
       "       [0.37617488, 0.62382512],\n",
       "       [0.90082123, 0.09917877],\n",
       "       ...,\n",
       "       [0.91899848, 0.08100152],\n",
       "       [0.91225164, 0.08774836],\n",
       "       [0.92538195, 0.07461805]])"
      ]
     },
     "execution_count": 23,
     "metadata": {},
     "output_type": "execute_result"
    }
   ],
   "source": [
    "y_predict_train"
   ]
  },
  {
   "cell_type": "code",
   "execution_count": 17,
   "metadata": {},
   "outputs": [],
   "source": [
    "fpr, tpr, thresholds = roc_curve(labels_test, y_predict[:, 1])\n",
    "#tprs.append(interp(mean_fpr, fpr, tpr))\n",
    "#tprs[-1][0] = 0.0\n",
    "#AUC[k_out] = auc(fpr, tpr)\n",
    "#plt.plot(fpr, tpr, lw=1, alpha=0.3,\n",
    "#         label='ROC fold %d (AUC = %0.4f for %d PCs)' % (k_out+1, AUC[k_out], int(nb_feats)))  "
   ]
  },
  {
   "cell_type": "code",
   "execution_count": 18,
   "metadata": {},
   "outputs": [
    {
     "data": {
      "text/plain": [
       "[<matplotlib.lines.Line2D at 0x1e380407eb8>]"
      ]
     },
     "execution_count": 18,
     "metadata": {},
     "output_type": "execute_result"
    },
    {
     "data": {
      "image/png": "[encoded data removed]",
      "text/plain": [
       "<Figure size 432x288 with 1 Axes>"
      ]
     },
     "metadata": {
      "needs_background": "light"
     },
     "output_type": "display_data"
    }
   ],
   "source": [
    "AUC = auc(fpr, tpr)\n",
    "plt.plot(fpr, tpr, lw=1, alpha=0.3)"
   ]
  },
  {
   "cell_type": "code",
   "execution_count": 47,
   "metadata": {},
   "outputs": [
    {
     "data": {
      "text/plain": [
       "array([[0.00782662, 0.99217338],\n",
       "       [0.9594822 , 0.0405178 ],\n",
       "       [0.97440236, 0.02559764],\n",
       "       ...,\n",
       "       [0.9987931 , 0.0012069 ],\n",
       "       [0.98944643, 0.01055357],\n",
       "       [0.985578  , 0.014422  ]])"
      ]
     },
     "execution_count": 47,
     "metadata": {},
     "output_type": "execute_result"
    }
   ],
   "source": [
    "y_predict"
   ]
  },
  {
   "cell_type": "code",
   "execution_count": 47,
   "metadata": {},
   "outputs": [
    {
     "data": {
      "text/plain": [
       "[<matplotlib.lines.Line2D at 0x1e38454f588>]"
      ]
     },
     "execution_count": 47,
     "metadata": {},
     "output_type": "execute_result"
    },
    {
     "data": {
      "image/png": "[encoded data removed]",
      "text/plain": [
       "<Figure size 432x288 with 1 Axes>"
      ]
     },
     "metadata": {
      "needs_background": "light"
     },
     "output_type": "display_data"
    }
   ],
   "source": [
    "plt.plot(labels_test)\n",
    "plt.plot(y_predict[:, 1])"
   ]
  },
  {
   "cell_type": "code",
   "execution_count": 48,
   "metadata": {},
   "outputs": [
    {
     "data": {
      "text/plain": [
       "[<matplotlib.lines.Line2D at 0x1e38a90bd30>]"
      ]
     },
     "execution_count": 48,
     "metadata": {},
     "output_type": "execute_result"
    },
    {
     "data": {
      "image/png": "[encoded data removed]",
      "text/plain": [
       "<Figure size 432x288 with 1 Axes>"
      ]
     },
     "metadata": {
      "needs_background": "light"
     },
     "output_type": "display_data"
    }
   ],
   "source": [
    "plt.plot(labels_train)\n",
    "plt.plot(y_predict_train[:, 1])"
   ]
  },
  {
   "cell_type": "code",
   "execution_count": null,
   "metadata": {},
   "outputs": [],
   "source": []
  }
 ],
 "metadata": {
  "kernelspec": {
   "display_name": "Python 3",
   "language": "python",
   "name": "python3"
  },
  "language_info": {
   "codemirror_mode": {
    "name": "ipython",
    "version": 3
   },
   "file_extension": ".py",
   "mimetype": "text/x-python",
   "name": "python",
   "nbconvert_exporter": "python",
   "pygments_lexer": "ipython3",
   "version": "3.6.8"
  }
 },
 "nbformat": 4,
 "nbformat_minor": 2
}
