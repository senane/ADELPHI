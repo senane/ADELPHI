{
 "cells": [
  {
   "cell_type": "markdown",
   "metadata": {},
   "source": [
    "# SVM Model for Individual"
   ]
  },
  {
   "cell_type": "markdown",
   "metadata": {},
   "source": [
    "Goal here to assess the performance of the classifier for each animal.\n",
    "For each animal, split train and test data (external cross validation).\n",
    "In the training data, make a second cross-val (internal cross-val, train-validation) to optimize the hyperparameters.\n",
    "Decide the model at the end of this cross-val with the best-performing average AUC\n",
    "\n",
    "Train the model on the outer cross-val training set\n",
    "Test it on the test set.\n",
    "This will give n models with n performances"
   ]
  },
  {
   "cell_type": "code",
   "execution_count": 19,
   "metadata": {},
   "outputs": [],
   "source": [
    "from __future__ import absolute_import, division, print_function\n",
    "from matplotlib.font_manager import _rebuild; _rebuild()\n",
    "import matplotlib.pyplot as plt\n",
    "%matplotlib inline\n",
    "import tensorflow as tf\n",
    "\n",
    "#Helper libraries\n",
    "import numpy as np\n",
    "import matplotlib.pyplot as plt\n",
    "import pandas as pd\n",
    "import scipy.io as spio\n",
    "from keras.models import Sequential\n",
    "from keras.layers import Dense\n",
    "from keras.wrappers.scikit_learn import KerasClassifier\n",
    "from keras.utils import np_utils\n",
    "from sklearn.model_selection import cross_val_score\n",
    "from sklearn.model_selection import KFold\n",
    "from sklearn.preprocessing import LabelEncoder\n",
    "from sklearn.pipeline import Pipeline\n",
    "from sklearn.model_selection import train_test_split\n",
    "from sklearn import metrics\n",
    "from sklearn.metrics import confusion_matrix \n",
    "from sklearn import svm\n",
    "from sklearn.pipeline import make_pipeline\n",
    "from sklearn.preprocessing import StandardScaler\n",
    "from sklearn.decomposition import PCA\n",
    "from sklearn.model_selection import StratifiedKFold\n",
    "from sklearn.metrics import roc_curve, auc\n",
    "from scipy import interp\n",
    "\n",
    "tf.logging.set_verbosity(tf.logging.INFO)"
   ]
  },
  {
   "cell_type": "code",
   "execution_count": 31,
   "metadata": {},
   "outputs": [],
   "source": [
    "\"\"\"Set all global parameters to be monitored\"\"\"\n",
    "\n",
    "n_splits_o = 4\n",
    "n_splits_i = 4\n",
    "factor_red = 1\n",
    "\n",
    "# To reduce the computational expense and the number of features to try in PCA during Hyperparameter optimization\n",
    "nb_feats_min = 70\n",
    "nb_feats_max = 70\n",
    "\n",
    "# To choose how to split the samples: randomly (1) or chronologically (2)\n",
    "method = 2 # 1 for RANDOM, 2 for CHRONOLOGICAL"
   ]
  },
  {
   "cell_type": "code",
   "execution_count": 32,
   "metadata": {},
   "outputs": [],
   "source": [
    "\"\"\"Set sthe animal ID\"\"\"\n",
    "\n",
    "animal_name = 'sKH03'"
   ]
  },
  {
   "cell_type": "code",
   "execution_count": 33,
   "metadata": {},
   "outputs": [
    {
     "name": "stdout",
     "output_type": "stream",
     "text": [
      "(8565, 176)\n",
      "(8565, 1)\n"
     ]
    }
   ],
   "source": [
    "\"\"\"Load the dataset and set randomness.\"\"\"\n",
    "# (from Emma's code)\n",
    "\n",
    "# Initialize random number generator for reproducibility.\n",
    "seed = 7\n",
    "np.random.seed(seed)\n",
    "\n",
    "# import file into a dictionary\n",
    "data = spio.loadmat('D:\\\\Project with Senan\\\\Stim data 190310\\\\labeleddat\\\\with 16 channels\\\\SPES only - all seizures\\\\features_sKH03_2019-06-27_5minData.mat')\n",
    "\n",
    "# get the fields\n",
    "features = data['features'][()]\n",
    "labels = data['labels'][()]\n",
    "\n",
    "print(features.shape)\n",
    "print(labels.shape)"
   ]
  },
  {
   "cell_type": "code",
   "execution_count": 34,
   "metadata": {},
   "outputs": [
    {
     "name": "stdout",
     "output_type": "stream",
     "text": [
      "(8422,)\n",
      "(8422, 176)\n"
     ]
    }
   ],
   "source": [
    "\"\"\"Reduce the number of classes: delete the seizures - Prediction model\"\"\"\n",
    "\n",
    "a = np.where(labels == 2)\n",
    "\n",
    "labels_tmp = np.delete(labels, a)\n",
    "features_tmp = np.delete(features, a, 0);\n",
    "animal_labels = labels_tmp\n",
    "animal_features = features_tmp\n",
    "\n",
    "print(animal_labels.shape)\n",
    "print(animal_features.shape)"
   ]
  },
  {
   "cell_type": "code",
   "execution_count": 35,
   "metadata": {},
   "outputs": [],
   "source": [
    "\"\"\"if method = RANDOM: Shuffling the data to train/test on smaller subsets\"\"\"\n",
    "\n",
    "if method == 1:\n",
    "    shuffled_animal_features = np.empty(animal_features.shape, dtype=animal_features.dtype)\n",
    "    shuffled_animal_labels = np.empty(animal_labels.shape, dtype=animal_labels.dtype)\n",
    "    permutation = np.random.permutation(len(animal_labels))\n",
    "    for old_index, new_index in enumerate(permutation):\n",
    "            shuffled_animal_features [new_index] = animal_features[old_index]\n",
    "            shuffled_animal_labels[new_index] = animal_labels[old_index]\n",
    "    animal_features = shuffled_animal_features\n",
    "    animal_labels = shuffled_animal_labels"
   ]
  },
  {
   "cell_type": "code",
   "execution_count": 36,
   "metadata": {},
   "outputs": [],
   "source": [
    "\"\"\"Reducing the size of the vectors for easier computation\"\"\"\n",
    "factor = factor_red\n",
    "\n",
    "animal_features = animal_features[0:int(len(animal_features)/factor),:]\n",
    "animal_labels = animal_labels[0:np.int(len(animal_labels)/factor)]"
   ]
  },
  {
   "cell_type": "code",
   "execution_count": 37,
   "metadata": {},
   "outputs": [
    {
     "name": "stdout",
     "output_type": "stream",
     "text": [
      "(8422,)\n",
      "(8422, 176)\n"
     ]
    }
   ],
   "source": [
    "print(animal_labels.shape)\n",
    "print(animal_features.shape)"
   ]
  },
  {
   "cell_type": "code",
   "execution_count": 38,
   "metadata": {},
   "outputs": [],
   "source": [
    "# \"\"\"Split data into training and testing sets\"\"\"\n",
    "\n",
    "# # parameters:\n",
    "# n_splits_o = n_splits_o\n",
    "# n_splits_i = n_splits_i\n",
    "# nb_features_tot = animal_features.shape[1]\n",
    "\n",
    "\n",
    "# cv_o = StratifiedKFold(n_splits=n_splits_o)\n",
    "\n",
    "# for train_o, test in cv_o.split(animal_features, animal_labels):\n",
    "#     print(\"TRAIN:\", train_o, \"TEST:\", test)\n",
    "#     data_train_o = animal_features[train_o]\n",
    "#     data_test = animal_features[test]\n",
    "#     labels_train_o = animal_labels[train_o]\n",
    "#     labels_test = animal_labels[test]\n",
    "\n",
    "# print(np.count_nonzero(labels_train_o==1))\n",
    "# print(np.count_nonzero(labels_train_o==0))\n",
    "\n",
    "# print(np.count_nonzero(labels_test==1))\n",
    "# print(np.count_nonzero(labels_test==0))\n",
    "    "
   ]
  },
  {
   "cell_type": "markdown",
   "metadata": {},
   "source": [
    "## Cross validation whole loop"
   ]
  },
  {
   "cell_type": "code",
   "execution_count": 39,
   "metadata": {},
   "outputs": [
    {
     "name": "stdout",
     "output_type": "stream",
     "text": [
      "Process ended, outer fold  0 , inner fold  0\n",
      "Process ended, outer fold  0 , inner fold  1\n",
      "Process ended, outer fold  0 , inner fold  2\n",
      "Process ended, outer fold  0 , inner fold  3\n",
      "Process ended, outer fold  0\n",
      "Process ended, outer fold  1 , inner fold  0\n",
      "Process ended, outer fold  1 , inner fold  1\n",
      "Process ended, outer fold  1 , inner fold  2\n",
      "Process ended, outer fold  1 , inner fold  3\n",
      "Process ended, outer fold  1\n",
      "Process ended, outer fold  2 , inner fold  0\n",
      "Process ended, outer fold  2 , inner fold  1\n",
      "Process ended, outer fold  2 , inner fold  2\n",
      "Process ended, outer fold  2 , inner fold  3\n",
      "Process ended, outer fold  2\n",
      "Process ended, outer fold  3 , inner fold  0\n",
      "Process ended, outer fold  3 , inner fold  1\n",
      "Process ended, outer fold  3 , inner fold  2\n",
      "Process ended, outer fold  3 , inner fold  3\n",
      "Process ended, outer fold  3\n"
     ]
    },
    {
     "data": {
      "image/png": "[encoded data removed]",
      "text/plain": [
       "<Figure size 432x288 with 1 Axes>"
      ]
     },
     "metadata": {
      "needs_background": "light"
     },
     "output_type": "display_data"
    }
   ],
   "source": [
    "\"\"\"Split data into training and testing sets\"\"\"\n",
    "\n",
    "# parameters:\n",
    "n_splits_o = n_splits_o\n",
    "n_splits_i = n_splits_i\n",
    "nb_features_tot = animal_features.shape[1]\n",
    "\n",
    "cv_o = StratifiedKFold(n_splits=n_splits_o, random_state=None, shuffle=False)\n",
    "cv_i = StratifiedKFold(n_splits=n_splits_i, random_state=None, shuffle=False)\n",
    "\n",
    "\n",
    "AUC_i = np.zeros((n_splits_o, n_splits_i, nb_features_tot))\n",
    "AUC_means = np.zeros((n_splits_o, nb_features_tot))\n",
    "# Acc_train_i = np.zeros((n_splits_o, n_splits_i))\n",
    "# Acc_val_i = np.zeros((n_splits_o, n_splits_i))\n",
    "Best_features = np.zeros(n_splits_o)\n",
    "Best_features_valAUC = np.zeros(n_splits_o)\n",
    "AUC_o = np.zeros(n_splits_o)\n",
    "\n",
    "tprs = []\n",
    "mean_fpr = np.linspace(0, 1, 100)\n",
    "\n",
    "\n",
    "\"\"\"Outer loop\"\"\"\n",
    "k_out = 0\n",
    "for train_o, test in cv_o.split(animal_features, animal_labels):\n",
    "    data_train_o = animal_features[train_o]\n",
    "    data_test = animal_features[test]\n",
    "    labels_train_o = animal_labels[train_o]\n",
    "    labels_test = animal_labels[test]\n",
    "    \n",
    "    \"\"\"Inner Loop\"\"\"\n",
    "    k_in = 0\n",
    "    for train_i, val in cv_i.split(data_train_o, labels_train_o):\n",
    "\n",
    "        data_train_i = animal_features[train_i]\n",
    "        data_val = animal_features[val]\n",
    "        labels_train_i = animal_labels[train_i]\n",
    "        labels_val = animal_labels[val]\n",
    "\n",
    "        \"\"\"Hyperparameter evaluation: Number of features to keep after PCA\"\"\"\n",
    "        for k_feat in range(nb_feats_min, nb_feats_max+1):\n",
    "            features_kept = k_feat \n",
    "\n",
    "            clf = make_pipeline(StandardScaler(), PCA(n_components=features_kept), svm.SVC(kernel='rbf', gamma='scale', probability=True))\n",
    "            y_score = clf.fit(data_train_i, labels_train_i)\n",
    "\n",
    "            y_predict = clf.predict_proba(data_val)\n",
    "            y_predict_train = clf.predict(data_train_i)\n",
    "\n",
    "#             Acc_val_i[k_out, k_in] = metrics.accuracy_score(labels_val, y_predict)\n",
    "#             Acc_train_i[k_out, k_in] = metrics.accuracy_score(labels_train_i, y_predict_train)\n",
    "            fpr, tpr, thresholds = roc_curve(labels_val, y_predict[:, 1])\n",
    "            AUC_i[k_out, k_in, k_feat] = auc(fpr, tpr)\n",
    "        \n",
    "        print('Process ended, outer fold ', k_out, ', inner fold ', k_in)\n",
    "        k_in += 1\n",
    "        \n",
    "    AUC_means = np.mean(AUC_i, axis=1)\n",
    "    \n",
    "    \"\"\"Choice of the best performing Hyperparameters:\"\"\"\n",
    "    Best_features[k_out] = int(np.argmax(AUC_means[k_out,:]))\n",
    "    Best_features_valAUC[k_out] = np.max(AUC_means[k_out,:])\n",
    "    \n",
    "    \"\"\"Performance on the test set\"\"\"\n",
    "    clf = make_pipeline(StandardScaler(), PCA(n_components=int(Best_features[k_out])), svm.SVC(kernel='rbf', gamma='scale', probability=True))\n",
    "    y_score = clf.fit(data_train_o, labels_train_o)\n",
    "    \n",
    "    y_predict = clf.predict_proba(data_test)\n",
    "    y_predict_train = clf.predict(data_train_o)\n",
    "    \n",
    "    \"\"\"ROC curve\"\"\"\n",
    "    fpr, tpr, thresholds = roc_curve(labels_test, y_predict[:, 1])\n",
    "    tprs.append(interp(mean_fpr, fpr, tpr))\n",
    "    tprs[-1][0] = 0.0\n",
    "    AUC_o[k_out] = auc(fpr, tpr)\n",
    "    plt.plot(fpr, tpr, lw=1, alpha=0.3,\n",
    "             label='ROC fold %d (AUC = %0.4f for %d PCs)' % (k_out+1, AUC_o[k_out], int(Best_features[k_out])))  \n",
    "    \n",
    "    print('Process ended, outer fold ', k_out)\n",
    "    k_out += 1\n",
    "\n",
    "\"\"\"mean ROC curve\"\"\"             \n",
    "mean_tpr = np.mean(tprs, axis=0)\n",
    "mean_tpr[-1] = 1.0\n",
    "mean_auc = auc(mean_fpr, mean_tpr)\n",
    "std_auc = np.std(AUC_o)\n",
    "plt.plot(mean_fpr, mean_tpr, color='b',\n",
    "         label=r'Mean ROC (AUC = %0.4f $\\pm$ %0.4f)' % (mean_auc, std_auc),\n",
    "         lw=2, alpha=.8)\n",
    "\n",
    "std_tpr = np.std(tprs, axis=0)\n",
    "tprs_upper = np.minimum(mean_tpr + std_tpr, 1)\n",
    "tprs_lower = np.maximum(mean_tpr - std_tpr, 0)\n",
    "plt.fill_between(mean_fpr, tprs_lower, tprs_upper, color='grey', alpha=.2,\n",
    "                 label=r'$\\pm$ 1 std. dev.')       \n",
    "    \n",
    "plt.plot([0, 1], [0, 1], linestyle='--', lw=2, color='r',\n",
    "         label='Chance', alpha=.8)    \n",
    "plt.xlim([-0.05, 1.05])\n",
    "plt.ylim([-0.05, 1.05])\n",
    "plt.xlabel('False Positive Rate')\n",
    "plt.ylabel('True Positive Rate')\n",
    "plt.title('Receiver operating characteristic for subject %s (%d folds CV_out, %d folds CV_in, data randomly reduced by factor %d)' % (animal_name, n_splits_o, n_splits_i, factor_red))\n",
    "plt.legend(loc=\"lower right\")\n",
    "plt.savefig('ROC_' + animal_name + '.png')  \n",
    "plt.show()                  \n",
    "    "
   ]
  },
  {
   "cell_type": "code",
   "execution_count": null,
   "metadata": {},
   "outputs": [],
   "source": [
    "print(AUC_i)\n",
    "print(AUC_o)\n",
    "print(Best_features)\n",
    "print(Best_features_valAUC)"
   ]
  },
  {
   "cell_type": "code",
   "execution_count": null,
   "metadata": {},
   "outputs": [],
   "source": []
  }
 ],
 "metadata": {
  "kernelspec": {
   "display_name": "Python 3",
   "language": "python",
   "name": "python3"
  },
  "language_info": {
   "codemirror_mode": {
    "name": "ipython",
    "version": 3
   },
   "file_extension": ".py",
   "mimetype": "text/x-python",
   "name": "python",
   "nbconvert_exporter": "python",
   "pygments_lexer": "ipython3",
   "version": "3.6.8"
  }
 },
 "nbformat": 4,
 "nbformat_minor": 2
}
